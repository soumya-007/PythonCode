{
 "cells": [
  {
   "cell_type": "code",
   "execution_count": 4,
   "id": "01b3bc50",
   "metadata": {},
   "outputs": [],
   "source": [
    "mystring =\"abcdefghi\""
   ]
  },
  {
   "cell_type": "code",
   "execution_count": 5,
   "id": "bf51ced5",
   "metadata": {},
   "outputs": [
    {
     "data": {
      "text/plain": [
       "'abcdefghi'"
      ]
     },
     "execution_count": 5,
     "metadata": {},
     "output_type": "execute_result"
    }
   ],
   "source": [
    "mystring"
   ]
  },
  {
   "cell_type": "code",
   "execution_count": 17,
   "id": "b14f1471",
   "metadata": {},
   "outputs": [
    {
     "data": {
      "text/plain": [
       "'efghi'"
      ]
     },
     "execution_count": 17,
     "metadata": {},
     "output_type": "execute_result"
    }
   ],
   "source": [
    "mystring[4:]"
   ]
  },
  {
   "cell_type": "code",
   "execution_count": 18,
   "id": "95ad1c30",
   "metadata": {},
   "outputs": [
    {
     "data": {
      "text/plain": [
       "'abcd'"
      ]
     },
     "execution_count": 18,
     "metadata": {},
     "output_type": "execute_result"
    }
   ],
   "source": [
    "mystring[:4] #Starting from 0...upto 4th Char (4th Char is not Included)"
   ]
  },
  {
   "cell_type": "code",
   "execution_count": 13,
   "id": "e32b02c5",
   "metadata": {},
   "outputs": [
    {
     "data": {
      "text/plain": [
       "'efgh'"
      ]
     },
     "execution_count": 13,
     "metadata": {},
     "output_type": "execute_result"
    }
   ],
   "source": [
    "mystring[4:8] #Starting from 0.1.2.3.4... Upto 8th Chart(The 8th Char is  'i' but its upto 8th char)"
   ]
  },
  {
   "cell_type": "code",
   "execution_count": 14,
   "id": "ef8ea7fc",
   "metadata": {},
   "outputs": [
    {
     "data": {
      "text/plain": [
       "'g'"
      ]
     },
     "execution_count": 14,
     "metadata": {},
     "output_type": "execute_result"
    }
   ],
   "source": [
    "mystring[6]  # the first character is 0 then it will go upto 6th Char"
   ]
  },
  {
   "cell_type": "code",
   "execution_count": 16,
   "id": "3ca9f1a4",
   "metadata": {},
   "outputs": [
    {
     "data": {
      "text/plain": [
       "'h'"
      ]
     },
     "execution_count": 16,
     "metadata": {},
     "output_type": "execute_result"
    }
   ],
   "source": [
    "mystring[-2] # first char is '0' position so -1 is -->i & -2 is  'h'"
   ]
  },
  {
   "cell_type": "code",
   "execution_count": 15,
   "id": "ee516b92",
   "metadata": {},
   "outputs": [
    {
     "data": {
      "text/plain": [
       "9"
      ]
     },
     "execution_count": 15,
     "metadata": {},
     "output_type": "execute_result"
    }
   ],
   "source": [
    "len(mystring)"
   ]
  },
  {
   "cell_type": "code",
   "execution_count": 19,
   "id": "f7bc136d",
   "metadata": {},
   "outputs": [
    {
     "data": {
      "text/plain": [
       "'adg'"
      ]
     },
     "execution_count": 19,
     "metadata": {},
     "output_type": "execute_result"
    }
   ],
   "source": [
    "mystring[:: 3] # Jumping the step size of 3 "
   ]
  },
  {
   "cell_type": "code",
   "execution_count": 23,
   "id": "75ede591",
   "metadata": {},
   "outputs": [
    {
     "data": {
      "text/plain": [
       "'cfi'"
      ]
     },
     "execution_count": 23,
     "metadata": {},
     "output_type": "execute_result"
    }
   ],
   "source": [
    "mystring[2:9:3] # Jumping the step size of 3 ...starting from 2nd index upto 9th index(not including the 9th Index) "
   ]
  },
  {
   "cell_type": "markdown",
   "id": "9622ce3e",
   "metadata": {},
   "source": [
    "# Reverse a String Trick"
   ]
  },
  {
   "cell_type": "code",
   "execution_count": 25,
   "id": "b809cdd4",
   "metadata": {},
   "outputs": [
    {
     "data": {
      "text/plain": [
       "'ihgfedcba'"
      ]
     },
     "execution_count": 25,
     "metadata": {},
     "output_type": "execute_result"
    }
   ],
   "source": [
    "mystring[::-1] # all the way from start till end & step size of -1"
   ]
  },
  {
   "cell_type": "markdown",
   "id": "d2450c52",
   "metadata": {},
   "source": [
    "# String Immutability"
   ]
  },
  {
   "cell_type": "code",
   "execution_count": 27,
   "id": "3af55584",
   "metadata": {},
   "outputs": [],
   "source": [
    "str =\"Test\""
   ]
  },
  {
   "cell_type": "code",
   "execution_count": 29,
   "id": "09c6fe96",
   "metadata": {},
   "outputs": [
    {
     "ename": "TypeError",
     "evalue": "'str' object does not support item assignment",
     "output_type": "error",
     "traceback": [
      "\u001b[1;31m---------------------------------------------------------------------------\u001b[0m",
      "\u001b[1;31mTypeError\u001b[0m                                 Traceback (most recent call last)",
      "Cell \u001b[1;32mIn[29], line 1\u001b[0m\n\u001b[1;32m----> 1\u001b[0m \u001b[38;5;28;43mstr\u001b[39;49m\u001b[43m \u001b[49m\u001b[43m[\u001b[49m\u001b[38;5;241;43m0\u001b[39;49m\u001b[43m]\u001b[49m\u001b[38;5;241m=\u001b[39m\u001b[38;5;124m\"\u001b[39m\u001b[38;5;124mA\u001b[39m\u001b[38;5;124m\"\u001b[39m\n",
      "\u001b[1;31mTypeError\u001b[0m: 'str' object does not support item assignment"
     ]
    }
   ],
   "source": [
    "# str [0]=\"A\" "
   ]
  },
  {
   "cell_type": "code",
   "execution_count": 33,
   "id": "834cc38d",
   "metadata": {},
   "outputs": [],
   "source": [
    "last_letters = str [1:]"
   ]
  },
  {
   "cell_type": "code",
   "execution_count": 34,
   "id": "ffc95d3d",
   "metadata": {},
   "outputs": [
    {
     "data": {
      "text/plain": [
       "'est'"
      ]
     },
     "execution_count": 34,
     "metadata": {},
     "output_type": "execute_result"
    }
   ],
   "source": [
    "last_letters"
   ]
  },
  {
   "cell_type": "code",
   "execution_count": 35,
   "id": "eaeb4013",
   "metadata": {},
   "outputs": [
    {
     "data": {
      "text/plain": [
       "'Pest'"
      ]
     },
     "execution_count": 35,
     "metadata": {},
     "output_type": "execute_result"
    }
   ],
   "source": [
    "'P' + last_letters"
   ]
  },
  {
   "cell_type": "code",
   "execution_count": 37,
   "id": "9f042665",
   "metadata": {},
   "outputs": [
    {
     "data": {
      "text/plain": [
       "'23'"
      ]
     },
     "execution_count": 37,
     "metadata": {},
     "output_type": "execute_result"
    }
   ],
   "source": [
    "'2' + '3'"
   ]
  },
  {
   "cell_type": "code",
   "execution_count": 41,
   "id": "43737aa7",
   "metadata": {},
   "outputs": [],
   "source": [
    "x = \"Hello World\""
   ]
  },
  {
   "cell_type": "code",
   "execution_count": 43,
   "id": "15cc9761",
   "metadata": {},
   "outputs": [
    {
     "data": {
      "text/plain": [
       "'HELLO WORLD'"
      ]
     },
     "execution_count": 43,
     "metadata": {},
     "output_type": "execute_result"
    }
   ],
   "source": [
    "x.upper()"
   ]
  },
  {
   "cell_type": "code",
   "execution_count": 44,
   "id": "9858f105",
   "metadata": {},
   "outputs": [
    {
     "data": {
      "text/plain": [
       "'hello world'"
      ]
     },
     "execution_count": 44,
     "metadata": {},
     "output_type": "execute_result"
    }
   ],
   "source": [
    "x.lower()"
   ]
  },
  {
   "cell_type": "code",
   "execution_count": 47,
   "id": "b8f35c94",
   "metadata": {},
   "outputs": [],
   "source": [
    "x = 'This is s string'"
   ]
  },
  {
   "cell_type": "code",
   "execution_count": 48,
   "id": "4a439324",
   "metadata": {},
   "outputs": [
    {
     "data": {
      "text/plain": [
       "['This', 'is', 's', 'string']"
      ]
     },
     "execution_count": 48,
     "metadata": {},
     "output_type": "execute_result"
    }
   ],
   "source": [
    "x.split()"
   ]
  },
  {
   "cell_type": "code",
   "execution_count": 50,
   "id": "9ea5fd1a",
   "metadata": {},
   "outputs": [
    {
     "data": {
      "text/plain": [
       "['Th', 's ', 's s str', 'ng']"
      ]
     },
     "execution_count": 50,
     "metadata": {},
     "output_type": "execute_result"
    }
   ],
   "source": [
    "x.split('i')"
   ]
  },
  {
   "cell_type": "markdown",
   "id": "e7143fb4",
   "metadata": {},
   "source": [
    "# Print Formatting with String"
   ]
  },
  {
   "cell_type": "code",
   "execution_count": 56,
   "id": "e62bd0a6",
   "metadata": {},
   "outputs": [
    {
     "name": "stdout",
     "output_type": "stream",
     "text": [
      "This is a string Inserted\n"
     ]
    }
   ],
   "source": [
    "print('This is a string {}'.format ('Inserted'))"
   ]
  },
  {
   "cell_type": "code",
   "execution_count": 58,
   "id": "54d3ab91",
   "metadata": {},
   "outputs": [
    {
     "name": "stdout",
     "output_type": "stream",
     "text": [
      "This is a string Inserted abcd\n"
     ]
    }
   ],
   "source": [
    "print('This is a string {} {}'.format ('Inserted','abcd'))"
   ]
  },
  {
   "cell_type": "code",
   "execution_count": 59,
   "id": "f1b8fa2f",
   "metadata": {},
   "outputs": [
    {
     "name": "stdout",
     "output_type": "stream",
     "text": [
      "The Quick brown fox\n"
     ]
    }
   ],
   "source": [
    "print('{} {} {}'.format ('The Quick','brown','fox'))"
   ]
  },
  {
   "cell_type": "code",
   "execution_count": 61,
   "id": "63eaec3b",
   "metadata": {},
   "outputs": [
    {
     "name": "stdout",
     "output_type": "stream",
     "text": [
      "The Quick The Quick The Quick\n"
     ]
    }
   ],
   "source": [
    "print('{0} {0} {0}'.format ('The Quick','brown','fox'))"
   ]
  },
  {
   "cell_type": "code",
   "execution_count": 60,
   "id": "58747b44",
   "metadata": {},
   "outputs": [
    {
     "name": "stdout",
     "output_type": "stream",
     "text": [
      "The Quick fox brown\n"
     ]
    }
   ],
   "source": [
    "print('{a} {b} {c}'.format (a='The Quick',c='brown',b='fox'))"
   ]
  },
  {
   "cell_type": "code",
   "execution_count": 62,
   "id": "e4e4a73a",
   "metadata": {},
   "outputs": [
    {
     "name": "stdout",
     "output_type": "stream",
     "text": [
      "The Quick The Quick The Quick\n"
     ]
    }
   ],
   "source": [
    "print('{a} {a} {a}'.format (a='The Quick',c='brown',b='fox'))"
   ]
  },
  {
   "cell_type": "code",
   "execution_count": 64,
   "id": "db732f54",
   "metadata": {},
   "outputs": [],
   "source": [
    "result =100/777"
   ]
  },
  {
   "cell_type": "code",
   "execution_count": 65,
   "id": "216e4fd3",
   "metadata": {},
   "outputs": [
    {
     "name": "stdout",
     "output_type": "stream",
     "text": [
      "0.1287001287001287\n"
     ]
    }
   ],
   "source": [
    "print(result)"
   ]
  },
  {
   "cell_type": "code",
   "execution_count": 67,
   "id": "9523c192",
   "metadata": {},
   "outputs": [
    {
     "name": "stdout",
     "output_type": "stream",
     "text": [
      "The Result is : 0.1287001287001287\n"
     ]
    }
   ],
   "source": [
    "print('The Result is : {}'.format(result))"
   ]
  },
  {
   "cell_type": "code",
   "execution_count": 74,
   "id": "96e1df34",
   "metadata": {},
   "outputs": [
    {
     "name": "stdout",
     "output_type": "stream",
     "text": [
      "The Result is : 0.129\n"
     ]
    }
   ],
   "source": [
    "print('The Result is : {r:1.3f}'.format(r=result))"
   ]
  },
  {
   "cell_type": "code",
   "execution_count": 78,
   "id": "360fee79",
   "metadata": {},
   "outputs": [
    {
     "name": "stdout",
     "output_type": "stream",
     "text": [
      "his name is Soumya\n"
     ]
    }
   ],
   "source": [
    "name='Soumya'\n",
    "print(f'his name is {name}') #new feature in Python 3"
   ]
  },
  {
   "cell_type": "code",
   "execution_count": 80,
   "id": "cbe072be",
   "metadata": {},
   "outputs": [
    {
     "name": "stdout",
     "output_type": "stream",
     "text": [
      "Soumya is 3 years old\n"
     ]
    }
   ],
   "source": [
    "name='Soumya'\n",
    "age =3\n",
    "print(f'{name} is {age} years old') #new feature in Python 3"
   ]
  },
  {
   "cell_type": "code",
   "execution_count": null,
   "id": "d23ee593",
   "metadata": {},
   "outputs": [],
   "source": []
  }
 ],
 "metadata": {
  "kernelspec": {
   "display_name": "Python 3 (ipykernel)",
   "language": "python",
   "name": "python3"
  },
  "language_info": {
   "codemirror_mode": {
    "name": "ipython",
    "version": 3
   },
   "file_extension": ".py",
   "mimetype": "text/x-python",
   "name": "python",
   "nbconvert_exporter": "python",
   "pygments_lexer": "ipython3",
   "version": "3.11.5"
  }
 },
 "nbformat": 4,
 "nbformat_minor": 5
}
