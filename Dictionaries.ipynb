{
 "cells": [
  {
   "cell_type": "code",
   "execution_count": 1,
   "id": "4b824de9",
   "metadata": {},
   "outputs": [],
   "source": [
    "my_dict = {'key1':'val1','key2':2.76,'key3':675}"
   ]
  },
  {
   "cell_type": "code",
   "execution_count": 2,
   "id": "3c21937d",
   "metadata": {},
   "outputs": [
    {
     "data": {
      "text/plain": [
       "{'key1': 'val1', 'key2': 2.76, 'key3': 675}"
      ]
     },
     "execution_count": 2,
     "metadata": {},
     "output_type": "execute_result"
    }
   ],
   "source": [
    "my_dict"
   ]
  },
  {
   "cell_type": "code",
   "execution_count": 3,
   "id": "0515eebb",
   "metadata": {},
   "outputs": [
    {
     "data": {
      "text/plain": [
       "2.76"
      ]
     },
     "execution_count": 3,
     "metadata": {},
     "output_type": "execute_result"
    }
   ],
   "source": [
    "my_dict['key2']"
   ]
  },
  {
   "cell_type": "code",
   "execution_count": 4,
   "id": "a6feae1f",
   "metadata": {},
   "outputs": [],
   "source": [
    "price_lookup ={'apple':2.35,'Guava':4.76,'Milk':3,'pen':2}"
   ]
  },
  {
   "cell_type": "code",
   "execution_count": 5,
   "id": "ec6e9b36",
   "metadata": {},
   "outputs": [
    {
     "name": "stdout",
     "output_type": "stream",
     "text": [
      "{'apple': 2.35, 'Guava': 4.76, 'Milk': 3, 'pen': 2}\n"
     ]
    }
   ],
   "source": [
    "print(price_lookup)"
   ]
  },
  {
   "cell_type": "code",
   "execution_count": 6,
   "id": "88e53d2f",
   "metadata": {},
   "outputs": [
    {
     "data": {
      "text/plain": [
       "4.76"
      ]
     },
     "execution_count": 6,
     "metadata": {},
     "output_type": "execute_result"
    }
   ],
   "source": [
    "price_lookup ['Guava']"
   ]
  },
  {
   "cell_type": "code",
   "execution_count": 7,
   "id": "a57025eb",
   "metadata": {},
   "outputs": [],
   "source": [
    "complx_dict ={'key1':'abcd','key2':[4,5,6,7,'abcd'],'key3':{'k1':23,'k3':456,'k4':'abcde'}}"
   ]
  },
  {
   "cell_type": "code",
   "execution_count": 8,
   "id": "1ce961c8",
   "metadata": {},
   "outputs": [
    {
     "data": {
      "text/plain": [
       "{'key1': 'abcd',\n",
       " 'key2': [4, 5, 6, 7, 'abcd'],\n",
       " 'key3': {'k1': 23, 'k3': 456, 'k4': 'abcde'}}"
      ]
     },
     "execution_count": 8,
     "metadata": {},
     "output_type": "execute_result"
    }
   ],
   "source": [
    "complx_dict"
   ]
  },
  {
   "cell_type": "code",
   "execution_count": 9,
   "id": "f02a1599",
   "metadata": {},
   "outputs": [
    {
     "data": {
      "text/plain": [
       "'ABCD'"
      ]
     },
     "execution_count": 9,
     "metadata": {},
     "output_type": "execute_result"
    }
   ],
   "source": [
    "complx_dict['key2'][4].upper()"
   ]
  },
  {
   "cell_type": "code",
   "execution_count": 10,
   "id": "f02f7609",
   "metadata": {},
   "outputs": [
    {
     "data": {
      "text/plain": [
       "'ABCDE'"
      ]
     },
     "execution_count": 10,
     "metadata": {},
     "output_type": "execute_result"
    }
   ],
   "source": [
    "complx_dict['key3']['k4'].upper()"
   ]
  },
  {
   "cell_type": "code",
   "execution_count": 11,
   "id": "6e25aa05",
   "metadata": {},
   "outputs": [
    {
     "data": {
      "text/plain": [
       "dict_keys(['key1', 'key2', 'key3'])"
      ]
     },
     "execution_count": 11,
     "metadata": {},
     "output_type": "execute_result"
    }
   ],
   "source": [
    "complx_dict.keys()"
   ]
  },
  {
   "cell_type": "code",
   "execution_count": 12,
   "id": "67695052",
   "metadata": {},
   "outputs": [
    {
     "data": {
      "text/plain": [
       "dict_values(['abcd', [4, 5, 6, 7, 'abcd'], {'k1': 23, 'k3': 456, 'k4': 'abcde'}])"
      ]
     },
     "execution_count": 12,
     "metadata": {},
     "output_type": "execute_result"
    }
   ],
   "source": [
    "complx_dict.values()"
   ]
  },
  {
   "cell_type": "code",
   "execution_count": 13,
   "id": "13fd66f2",
   "metadata": {},
   "outputs": [
    {
     "data": {
      "text/plain": [
       "dict_items([('key1', 'abcd'), ('key2', [4, 5, 6, 7, 'abcd']), ('key3', {'k1': 23, 'k3': 456, 'k4': 'abcde'})])"
      ]
     },
     "execution_count": 13,
     "metadata": {},
     "output_type": "execute_result"
    }
   ],
   "source": [
    "complx_dict.items()"
   ]
  },
  {
   "cell_type": "code",
   "execution_count": 14,
   "id": "0667a819",
   "metadata": {},
   "outputs": [],
   "source": [
    "d = {'key1':{'nestkey':{'subnestkey':'value'}}}"
   ]
  },
  {
   "cell_type": "code",
   "execution_count": 15,
   "id": "6a4605db",
   "metadata": {},
   "outputs": [
    {
     "data": {
      "text/plain": [
       "{'key1': {'nestkey': {'subnestkey': 'value'}}}"
      ]
     },
     "execution_count": 15,
     "metadata": {},
     "output_type": "execute_result"
    }
   ],
   "source": [
    "d"
   ]
  },
  {
   "cell_type": "code",
   "execution_count": 16,
   "id": "e3a76e06",
   "metadata": {},
   "outputs": [
    {
     "data": {
      "text/plain": [
       "'VALUE'"
      ]
     },
     "execution_count": 16,
     "metadata": {},
     "output_type": "execute_result"
    }
   ],
   "source": [
    "d['key1']['nestkey']['subnestkey'].upper()"
   ]
  },
  {
   "cell_type": "markdown",
   "id": "9b73b965",
   "metadata": {},
   "source": [
    "### We can also create keys by assignment."
   ]
  },
  {
   "cell_type": "code",
   "execution_count": 17,
   "id": "01da6baf",
   "metadata": {},
   "outputs": [],
   "source": [
    "d['animal']='Dog'"
   ]
  },
  {
   "cell_type": "code",
   "execution_count": 18,
   "id": "c6b90a22",
   "metadata": {},
   "outputs": [
    {
     "data": {
      "text/plain": [
       "{'key1': {'nestkey': {'subnestkey': 'value'}}, 'animal': 'Dog'}"
      ]
     },
     "execution_count": 18,
     "metadata": {},
     "output_type": "execute_result"
    }
   ],
   "source": [
    "d"
   ]
  },
  {
   "cell_type": "code",
   "execution_count": 41,
   "id": "0453456b",
   "metadata": {},
   "outputs": [],
   "source": [
    "my_num ={'k1':100,'k2':200}"
   ]
  },
  {
   "cell_type": "code",
   "execution_count": 44,
   "id": "9b5582df",
   "metadata": {},
   "outputs": [],
   "source": [
    "my_num['k1'] -= 100"
   ]
  },
  {
   "cell_type": "code",
   "execution_count": 45,
   "id": "0db7cba0",
   "metadata": {},
   "outputs": [
    {
     "data": {
      "text/plain": [
       "{'k1': 0, 'k2': 200}"
      ]
     },
     "execution_count": 45,
     "metadata": {},
     "output_type": "execute_result"
    }
   ],
   "source": [
    "my_num"
   ]
  },
  {
   "cell_type": "code",
   "execution_count": null,
   "id": "26fe68a6",
   "metadata": {},
   "outputs": [],
   "source": []
  }
 ],
 "metadata": {
  "kernelspec": {
   "display_name": "Python 3 (ipykernel)",
   "language": "python",
   "name": "python3"
  },
  "language_info": {
   "codemirror_mode": {
    "name": "ipython",
    "version": 3
   },
   "file_extension": ".py",
   "mimetype": "text/x-python",
   "name": "python",
   "nbconvert_exporter": "python",
   "pygments_lexer": "ipython3",
   "version": "3.11.5"
  }
 },
 "nbformat": 4,
 "nbformat_minor": 5
}
