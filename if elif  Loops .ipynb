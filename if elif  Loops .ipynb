{
 "cells": [
  {
   "cell_type": "code",
   "execution_count": 3,
   "id": "2fbe6e1b",
   "metadata": {},
   "outputs": [
    {
     "name": "stdout",
     "output_type": "stream",
     "text": [
      "Its True\n"
     ]
    }
   ],
   "source": [
    "if 3>2:\n",
    "    print('Its True')"
   ]
  },
  {
   "cell_type": "code",
   "execution_count": 5,
   "id": "2e5e2af2",
   "metadata": {},
   "outputs": [
    {
     "name": "stdout",
     "output_type": "stream",
     "text": [
      "Else block\n"
     ]
    }
   ],
   "source": [
    "hungry = False\n",
    "\n",
    "if hungry:\n",
    "    print('Its True')\n",
    "else:\n",
    "    print('Else block')\n",
    "    "
   ]
  },
  {
   "cell_type": "code",
   "execution_count": 10,
   "id": "f9bfcaf0",
   "metadata": {},
   "outputs": [
    {
     "name": "stdout",
     "output_type": "stream",
     "text": [
      "Money is cool!\n"
     ]
    }
   ],
   "source": [
    "loc = 'Bank'\n",
    "\n",
    "if loc == 'Auto Shop':\n",
    "    print('Cars are Cool!')\n",
    "elif loc =='Bank':\n",
    "    print('Money is cool!')\n",
    "else:\n",
    "    print('I dont know much')"
   ]
  },
  {
   "cell_type": "markdown",
   "id": "062cd211",
   "metadata": {},
   "source": [
    "## For Loops"
   ]
  },
  {
   "cell_type": "code",
   "execution_count": 18,
   "id": "07fe0357",
   "metadata": {},
   "outputs": [
    {
     "name": "stdout",
     "output_type": "stream",
     "text": [
      "3\n",
      "5\n",
      "6\n",
      "a\n",
      "b\n",
      "c\n"
     ]
    }
   ],
   "source": [
    "my_list =[3,5,6,'a','b','c']\n",
    "\n",
    "for n in my_list:\n",
    "    print (n)"
   ]
  },
  {
   "cell_type": "code",
   "execution_count": 24,
   "id": "06a4291c",
   "metadata": {},
   "outputs": [
    {
     "name": "stdout",
     "output_type": "stream",
     "text": [
      "Odd Number: 3\n",
      "Odd Number: 5\n",
      "Even Number: 6\n",
      "Odd Number: 49\n",
      "Odd Number: 51\n",
      "Odd Number: 53\n",
      "Even Number: 20\n",
      "Odd Number: 55\n",
      "Odd Number: 57\n",
      "Odd Number: 59\n",
      "Even Number: 88\n",
      "Even Number: 34\n",
      "Total Sum of the List:  480\n"
     ]
    }
   ],
   "source": [
    "my_list =[3,5,6,49, 51, 53,20,55, 57, 59,88,34]\n",
    "list_sum=0\n",
    "\n",
    "for n in my_list:\n",
    "    list_sum= list_sum+n\n",
    "    if n%2 == 0:\n",
    "        print(f'Even Number: {n}')\n",
    "    else:\n",
    "        print(f'Odd Number: {n}')\n",
    "print(f'Total Sum of the List:  {list_sum}')\n"
   ]
  },
  {
   "cell_type": "code",
   "execution_count": 25,
   "id": "25d6f682",
   "metadata": {},
   "outputs": [
    {
     "name": "stdout",
     "output_type": "stream",
     "text": [
      "the strings are: H\n",
      "the strings are: e\n",
      "the strings are: l\n",
      "the strings are: l\n",
      "the strings are: o\n",
      "the strings are:  \n",
      "the strings are: W\n",
      "the strings are: o\n",
      "the strings are: r\n",
      "the strings are: l\n",
      "the strings are: d\n"
     ]
    }
   ],
   "source": [
    "mystring ='Hello World'\n",
    "\n",
    "for n in mystring:\n",
    "    print(f'the strings are: {n}')"
   ]
  },
  {
   "cell_type": "code",
   "execution_count": 26,
   "id": "0a03d9d9",
   "metadata": {},
   "outputs": [
    {
     "name": "stdout",
     "output_type": "stream",
     "text": [
      "the strings are: H\n",
      "the strings are: e\n",
      "the strings are: l\n",
      "the strings are: l\n",
      "the strings are: o\n",
      "the strings are:  \n",
      "the strings are: W\n",
      "the strings are: o\n",
      "the strings are: r\n",
      "the strings are: l\n",
      "the strings are: d\n"
     ]
    }
   ],
   "source": [
    "#mystring ='Hello World'\n",
    "\n",
    "for n in 'Hello World':\n",
    "    print(f'the strings are: {n}')"
   ]
  },
  {
   "cell_type": "code",
   "execution_count": 38,
   "id": "765a60ec",
   "metadata": {},
   "outputs": [
    {
     "name": "stdout",
     "output_type": "stream",
     "text": [
      "4\n",
      "4\n",
      "4\n",
      "4\n",
      "5\n",
      "6\n",
      "7\n",
      "8\n",
      "3\n"
     ]
    }
   ],
   "source": [
    "tup = (4,4,4,4,5,6,7,8,3)\n",
    "\n",
    "for n in tup:\n",
    "    print(n)\n"
   ]
  },
  {
   "cell_type": "code",
   "execution_count": 40,
   "id": "03c90d12",
   "metadata": {},
   "outputs": [
    {
     "name": "stdout",
     "output_type": "stream",
     "text": [
      "3\n",
      "4\n",
      "5\n",
      "6\n",
      "7\n",
      "8\n"
     ]
    }
   ],
   "source": [
    "tup = set((3,4,4,4,4,5,6,7,8))\n",
    "\n",
    "for n in tup:\n",
    "    print(n)"
   ]
  },
  {
   "cell_type": "code",
   "execution_count": 51,
   "id": "b3bfcfbf",
   "metadata": {},
   "outputs": [
    {
     "name": "stdout",
     "output_type": "stream",
     "text": [
      "(1, 2)\n",
      "(2, 3)\n",
      "(5, 6)\n",
      "(7, 8)\n"
     ]
    }
   ],
   "source": [
    "mylist =[(1,2),(2,3),(5,6),(7,8)]\n",
    "                                 \n",
    "len(mylist)\n",
    "\n",
    "for n in mylist:\n",
    "    print(n)"
   ]
  },
  {
   "cell_type": "markdown",
   "id": "9ada89aa",
   "metadata": {},
   "source": [
    "### Tuple Unpacking"
   ]
  },
  {
   "cell_type": "code",
   "execution_count": 52,
   "id": "30f59582",
   "metadata": {},
   "outputs": [
    {
     "name": "stdout",
     "output_type": "stream",
     "text": [
      "1\n",
      "2\n",
      "2\n",
      "3\n",
      "5\n",
      "6\n",
      "7\n",
      "8\n"
     ]
    }
   ],
   "source": [
    "for a,b in mylist:\n",
    "    print(a)\n",
    "    print(b)"
   ]
  },
  {
   "cell_type": "markdown",
   "id": "f4857a55",
   "metadata": {},
   "source": [
    "##### Iteration through Dictionary"
   ]
  },
  {
   "cell_type": "code",
   "execution_count": 58,
   "id": "ce26b8f9",
   "metadata": {},
   "outputs": [
    {
     "name": "stdout",
     "output_type": "stream",
     "text": [
      "{'k1': 1, 'k2': 2, 'k3': 3}\n",
      "k1:1\n",
      "k2:2\n",
      "k3:3\n"
     ]
    }
   ],
   "source": [
    "dict = {'k1':1,'k2':2,'k3':3}\n",
    "print(dict)\n",
    "for n in dict:\n",
    "    print(f'{n}:{dict[n]}')\n",
    "    #print(dict[n])"
   ]
  },
  {
   "cell_type": "code",
   "execution_count": 59,
   "id": "603f0c5e",
   "metadata": {},
   "outputs": [
    {
     "name": "stdout",
     "output_type": "stream",
     "text": [
      "('k1', 1)\n",
      "('k2', 2)\n",
      "('k3', 3)\n"
     ]
    }
   ],
   "source": [
    "for n in dict.items():\n",
    "    print(n)"
   ]
  },
  {
   "cell_type": "code",
   "execution_count": 62,
   "id": "2b5932c4",
   "metadata": {},
   "outputs": [
    {
     "name": "stdout",
     "output_type": "stream",
     "text": [
      "1\n",
      "2\n",
      "3\n"
     ]
    }
   ],
   "source": [
    "for n in dict.values():\n",
    "    print(n)"
   ]
  },
  {
   "cell_type": "code",
   "execution_count": 61,
   "id": "32d64620",
   "metadata": {},
   "outputs": [
    {
     "name": "stdout",
     "output_type": "stream",
     "text": [
      "k1\n",
      "1\n",
      "k2\n",
      "2\n",
      "k3\n",
      "3\n"
     ]
    }
   ],
   "source": [
    "for key,values in dict.items():\n",
    "    print(key)\n",
    "    print(values)"
   ]
  },
  {
   "cell_type": "code",
   "execution_count": null,
   "id": "fd3f02df",
   "metadata": {},
   "outputs": [],
   "source": []
  },
  {
   "cell_type": "code",
   "execution_count": null,
   "id": "b3517007",
   "metadata": {},
   "outputs": [],
   "source": []
  }
 ],
 "metadata": {
  "kernelspec": {
   "display_name": "Python 3 (ipykernel)",
   "language": "python",
   "name": "python3"
  },
  "language_info": {
   "codemirror_mode": {
    "name": "ipython",
    "version": 3
   },
   "file_extension": ".py",
   "mimetype": "text/x-python",
   "name": "python",
   "nbconvert_exporter": "python",
   "pygments_lexer": "ipython3",
   "version": "3.11.5"
  }
 },
 "nbformat": 4,
 "nbformat_minor": 5
}
