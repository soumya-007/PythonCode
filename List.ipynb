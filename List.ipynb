{
 "cells": [
  {
   "cell_type": "code",
   "execution_count": 5,
   "id": "8cc3a9e0",
   "metadata": {},
   "outputs": [],
   "source": [
    "my_list = ['one',2,5.67,'test1','cat','test2','test3']"
   ]
  },
  {
   "cell_type": "code",
   "execution_count": 6,
   "id": "69cd46d6",
   "metadata": {},
   "outputs": [
    {
     "data": {
      "text/plain": [
       "['one', 2, 5.67, 'test1', 'cat', 'test2', 'test3']"
      ]
     },
     "execution_count": 6,
     "metadata": {},
     "output_type": "execute_result"
    }
   ],
   "source": [
    "my_list"
   ]
  },
  {
   "cell_type": "code",
   "execution_count": 7,
   "id": "b4e45240",
   "metadata": {},
   "outputs": [
    {
     "data": {
      "text/plain": [
       "[5.67, 'test1', 'cat', 'test2', 'test3']"
      ]
     },
     "execution_count": 7,
     "metadata": {},
     "output_type": "execute_result"
    }
   ],
   "source": [
    "my_list[2:] #Slicing of List..starting from 2 to last"
   ]
  },
  {
   "cell_type": "code",
   "execution_count": 9,
   "id": "a5cf6736",
   "metadata": {},
   "outputs": [
    {
     "data": {
      "text/plain": [
       "[5.67, 'test1', 'cat']"
      ]
     },
     "execution_count": 9,
     "metadata": {},
     "output_type": "execute_result"
    }
   ],
   "source": [
    "my_list[2:5]"
   ]
  },
  {
   "cell_type": "code",
   "execution_count": 10,
   "id": "98370b0a",
   "metadata": {},
   "outputs": [],
   "source": [
    "another_list = ['test6','test7']"
   ]
  },
  {
   "cell_type": "code",
   "execution_count": 12,
   "id": "1867fd83",
   "metadata": {},
   "outputs": [],
   "source": [
    "result_lt = another_list+my_list"
   ]
  },
  {
   "cell_type": "code",
   "execution_count": 14,
   "id": "4e63f3e1",
   "metadata": {},
   "outputs": [
    {
     "data": {
      "text/plain": [
       "['test6', 'test7', 'one', 2, 5.67, 'test1', 'cat', 'test2', 'test3']"
      ]
     },
     "execution_count": 14,
     "metadata": {},
     "output_type": "execute_result"
    }
   ],
   "source": [
    "result_lt"
   ]
  },
  {
   "cell_type": "code",
   "execution_count": 15,
   "id": "7034b429",
   "metadata": {},
   "outputs": [
    {
     "data": {
      "text/plain": [
       "'cat'"
      ]
     },
     "execution_count": 15,
     "metadata": {},
     "output_type": "execute_result"
    }
   ],
   "source": [
    "result_lt[6]"
   ]
  },
  {
   "cell_type": "code",
   "execution_count": 16,
   "id": "d1026f52",
   "metadata": {},
   "outputs": [],
   "source": [
    "result_lt[6] ='Fax' #List is mutable"
   ]
  },
  {
   "cell_type": "code",
   "execution_count": 17,
   "id": "03bdf687",
   "metadata": {},
   "outputs": [
    {
     "data": {
      "text/plain": [
       "['test6', 'test7', 'one', 2, 5.67, 'test1', 'Fax', 'test2', 'test3']"
      ]
     },
     "execution_count": 17,
     "metadata": {},
     "output_type": "execute_result"
    }
   ],
   "source": [
    "result_lt"
   ]
  },
  {
   "cell_type": "code",
   "execution_count": 18,
   "id": "a09f8d3a",
   "metadata": {},
   "outputs": [],
   "source": [
    "result_lt.append('newElement')"
   ]
  },
  {
   "cell_type": "code",
   "execution_count": 19,
   "id": "21d0f21b",
   "metadata": {},
   "outputs": [
    {
     "data": {
      "text/plain": [
       "['test6',\n",
       " 'test7',\n",
       " 'one',\n",
       " 2,\n",
       " 5.67,\n",
       " 'test1',\n",
       " 'Fax',\n",
       " 'test2',\n",
       " 'test3',\n",
       " 'newElement']"
      ]
     },
     "execution_count": 19,
     "metadata": {},
     "output_type": "execute_result"
    }
   ],
   "source": [
    "result_lt"
   ]
  },
  {
   "cell_type": "code",
   "execution_count": 21,
   "id": "e0096cac",
   "metadata": {},
   "outputs": [
    {
     "data": {
      "text/plain": [
       "'test1'"
      ]
     },
     "execution_count": 21,
     "metadata": {},
     "output_type": "execute_result"
    }
   ],
   "source": [
    "result_lt.pop(5) # it removed the 5th Index elemnt"
   ]
  },
  {
   "cell_type": "code",
   "execution_count": 22,
   "id": "b6a034df",
   "metadata": {},
   "outputs": [
    {
     "data": {
      "text/plain": [
       "['test6', 'test7', 'one', 2, 5.67, 'Fax', 'test2', 'test3', 'newElement']"
      ]
     },
     "execution_count": 22,
     "metadata": {},
     "output_type": "execute_result"
    }
   ],
   "source": [
    "result_lt"
   ]
  },
  {
   "cell_type": "code",
   "execution_count": 23,
   "id": "311bddaf",
   "metadata": {},
   "outputs": [
    {
     "data": {
      "text/plain": [
       "['test6', 'test7', 'one', 2, 5.67, 'Fax', 'test2', 'test3']"
      ]
     },
     "execution_count": 23,
     "metadata": {},
     "output_type": "execute_result"
    }
   ],
   "source": [
    "result_lt.pop() # My default last emenent is removed\n",
    "result_lt"
   ]
  },
  {
   "cell_type": "code",
   "execution_count": 25,
   "id": "8d03dd22",
   "metadata": {},
   "outputs": [],
   "source": [
    "num_list =[2,1,6,3,5,4]\n",
    "new_list =['e','b','a','d','c']"
   ]
  },
  {
   "cell_type": "code",
   "execution_count": 39,
   "id": "f7a75703",
   "metadata": {},
   "outputs": [
    {
     "data": {
      "text/plain": [
       "[1, 2, 3, 4, 5, 6]"
      ]
     },
     "execution_count": 39,
     "metadata": {},
     "output_type": "execute_result"
    }
   ],
   "source": [
    "result = num_list.sort() # it does not return any values , it stores the storted list in the actual list itself\n",
    "num_list"
   ]
  },
  {
   "cell_type": "code",
   "execution_count": 38,
   "id": "3e7fcc0c",
   "metadata": {},
   "outputs": [
    {
     "data": {
      "text/plain": [
       "NoneType"
      ]
     },
     "execution_count": 38,
     "metadata": {},
     "output_type": "execute_result"
    }
   ],
   "source": [
    "result = num_list.sort() # it does not return any values , it stores the storted list in the actual list itself\n",
    "num_list\n",
    "type (result)"
   ]
  },
  {
   "cell_type": "code",
   "execution_count": 35,
   "id": "cd712668",
   "metadata": {},
   "outputs": [
    {
     "data": {
      "text/plain": [
       "['a', 'b', 'c', 'd', 'e']"
      ]
     },
     "execution_count": 35,
     "metadata": {},
     "output_type": "execute_result"
    }
   ],
   "source": [
    "new_list =['e','b','a','d','c']\n",
    "new_list.sort() # it does not return any values , it stores the storted list in the actual list itself\n",
    "new_list"
   ]
  },
  {
   "cell_type": "code",
   "execution_count": 42,
   "id": "58e0ccac",
   "metadata": {},
   "outputs": [
    {
     "data": {
      "text/plain": [
       "[6, 5, 4, 3, 2, 1]"
      ]
     },
     "execution_count": 42,
     "metadata": {},
     "output_type": "execute_result"
    }
   ],
   "source": [
    "num_list.reverse()\n",
    "num_list"
   ]
  },
  {
   "cell_type": "code",
   "execution_count": 43,
   "id": "78b91a53",
   "metadata": {},
   "outputs": [
    {
     "data": {
      "text/plain": [
       "['a', 'b', 'c', 'd', 'e']"
      ]
     },
     "execution_count": 43,
     "metadata": {},
     "output_type": "execute_result"
    }
   ],
   "source": [
    "new_list"
   ]
  },
  {
   "cell_type": "code",
   "execution_count": 60,
   "id": "1351e734",
   "metadata": {},
   "outputs": [
    {
     "data": {
      "text/plain": [
       "['e', 'd', 'c', 'b', 'a']"
      ]
     },
     "execution_count": 60,
     "metadata": {},
     "output_type": "execute_result"
    }
   ],
   "source": [
    "new_list.reverse()\n",
    "new_list"
   ]
  },
  {
   "cell_type": "code",
   "execution_count": 61,
   "id": "14aedcf0",
   "metadata": {},
   "outputs": [
    {
     "data": {
      "text/plain": [
       "['e', 'd', 'c', 'b', 'a']"
      ]
     },
     "execution_count": 61,
     "metadata": {},
     "output_type": "execute_result"
    }
   ],
   "source": [
    "new_list"
   ]
  },
  {
   "cell_type": "code",
   "execution_count": 62,
   "id": "6841c02d",
   "metadata": {},
   "outputs": [
    {
     "name": "stdout",
     "output_type": "stream",
     "text": [
      "['a', 'b', 'c', 'd', 'e']\n"
     ]
    }
   ],
   "source": [
    "new_list.reverse()\n",
    "print(new_list)"
   ]
  },
  {
   "cell_type": "code",
   "execution_count": 2,
   "id": "55df4012",
   "metadata": {},
   "outputs": [
    {
     "ename": "ModuleNotFoundError",
     "evalue": "No module named 'pyspark'",
     "output_type": "error",
     "traceback": [
      "\u001b[1;31m---------------------------------------------------------------------------\u001b[0m",
      "\u001b[1;31mModuleNotFoundError\u001b[0m                       Traceback (most recent call last)",
      "Cell \u001b[1;32mIn[2], line 2\u001b[0m\n\u001b[0;32m      1\u001b[0m \u001b[38;5;66;03m# Import required modules \u001b[39;00m\n\u001b[1;32m----> 2\u001b[0m \u001b[38;5;28;01mfrom\u001b[39;00m \u001b[38;5;21;01mpyspark\u001b[39;00m\u001b[38;5;21;01m.\u001b[39;00m\u001b[38;5;21;01msql\u001b[39;00m \u001b[38;5;28;01mimport\u001b[39;00m SparkSession \n\u001b[0;32m      4\u001b[0m \u001b[38;5;66;03m# Create a SparkSession \u001b[39;00m\n\u001b[0;32m      5\u001b[0m spark \u001b[38;5;241m=\u001b[39m SparkSession\u001b[38;5;241m.\u001b[39mbuilder\u001b[38;5;241m.\u001b[39mappName(\u001b[38;5;124m\"\u001b[39m\u001b[38;5;124mhash_partitioning\u001b[39m\u001b[38;5;124m\"\u001b[39m)\u001b[38;5;241m.\u001b[39mgetOrCreate() \n",
      "\u001b[1;31mModuleNotFoundError\u001b[0m: No module named 'pyspark'"
     ]
    }
   ],
   "source": [
    "# Import required modules \n",
    "from pyspark.sql import SparkSession \n",
    "\n",
    "# Create a SparkSession \n",
    "spark = SparkSession.builder.appName(\"hash_partitioning\").getOrCreate() \n",
    "\n",
    "# Create a sample DataFrame \n",
    "df = spark.createDataFrame([ \n",
    "\t(1, \"Alice\", 25), \n",
    "\t(2, \"Bob\", 30), \n",
    "\t(3, \"Charlie\", 35), \n",
    "\t(4, \"Dave\", 40), \n",
    "\t(5, \"Eve\", 45), \n",
    "\t(6, \"Frank\", 50) \n",
    "], [\"id\", \"name\", \"age\"]) \n",
    "\n",
    "# Print the DataFrame \n",
    "df.show() \n",
    "# Perform hash partitioning on the \n",
    "# DataFrame based on the \"id\" column \n",
    "df = df.repartition(4, \"id\") \n",
    "\n",
    "# Print the elements in each partition \n",
    "print(df.rdd.glom().collect()) \n"
   ]
  },
  {
   "cell_type": "code",
   "execution_count": null,
   "id": "f144c7c7",
   "metadata": {},
   "outputs": [],
   "source": []
  }
 ],
 "metadata": {
  "kernelspec": {
   "display_name": "Python 3 (ipykernel)",
   "language": "python",
   "name": "python3"
  },
  "language_info": {
   "codemirror_mode": {
    "name": "ipython",
    "version": 3
   },
   "file_extension": ".py",
   "mimetype": "text/x-python",
   "name": "python",
   "nbconvert_exporter": "python",
   "pygments_lexer": "ipython3",
   "version": "3.11.5"
  }
 },
 "nbformat": 4,
 "nbformat_minor": 5
}
